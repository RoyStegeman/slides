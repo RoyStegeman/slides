{
 "cells": [
  {
   "cell_type": "code",
   "execution_count": null,
   "metadata": {},
   "outputs": [],
   "source": [
    "from matplotlib import pyplot as plt\n",
    "import numpy as np"
   ]
  },
  {
   "cell_type": "code",
   "execution_count": null,
   "metadata": {},
   "outputs": [],
   "source": [
    "alphas_vals = [0.114, 0.115, 0.116, 0.117, 0.118, 0.120, 0.121, 0.122]\n",
    "chi2_vals_nomhou = [1.23660, 1.21182, 1.19229, 1.17828, 1.17088, 1.16808, 1.17629, 1.18816]\n",
    "chi2_vals_mhou_no_mhou_in_chi2 = [1.53383, 1.40699, 1.31657, 1.25304, 1.19656, 1.17481, 1.20506, 1.24288]\n",
    "chi2_vals_mhou = [1.14072, 1.13531, 1.13415, 1.13284, 1.13284, 1.14041, 1.14687, 1.15696]"
   ]
  },
  {
   "cell_type": "code",
   "execution_count": null,
   "metadata": {},
   "outputs": [],
   "source": [
    "poly_mhou = np.polyfit(alphas_vals, chi2_vals_mhou, 2)\n",
    "poly_nomhou = np.polyfit(alphas_vals, chi2_vals_nomhou, 2)\n",
    "alphas_finegrid = np.linspace(alphas_vals[0], alphas_vals[-1])\n",
    "poly_mhou_finegrid = poly_mhou[0]*alphas_finegrid**2+poly_mhou[1]*alphas_finegrid+poly_mhou[2]\n",
    "poly_nomhou_finegrid = poly_nomhou[0]*alphas_finegrid**2+poly_nomhou[1]*alphas_finegrid+poly_nomhou[2]\n",
    "min_mhou = -poly_mhou[1] / 2 / poly_mhou[0]\n",
    "min_nomhou = -poly_nomhou[1] / 2 / poly_nomhou[0]"
   ]
  },
  {
   "cell_type": "code",
   "execution_count": null,
   "metadata": {},
   "outputs": [],
   "source": [
    "plt.plot(alphas_vals, chi2_vals_mhou, 's', color=\"C0\", linewidth=20, label=f\"MHOU, min={min_mhou:.4f}\")\n",
    "plt.plot(alphas_vals, chi2_vals_nomhou, 's', color=\"C1\", linewidth=20, label=f\"no MHOU, min={min_nomhou:.4f}\")\n",
    "plt.plot(alphas_finegrid, poly_mhou_finegrid, color=\"C0\")\n",
    "plt.plot(alphas_finegrid, poly_nomhou_finegrid, color=\"C1\")\n",
    "plt.title(\"chi2 of replica 0 to central value of the data\")\n",
    "plt.ylabel(r\"$\\chi^2$\")\n",
    "plt.xlabel(r\"$\\alpha_s$\")\n",
    "plt.legend()"
   ]
  }
 ],
 "metadata": {
  "kernelspec": {
   "display_name": "nnpdf",
   "language": "python",
   "name": "python3"
  },
  "language_info": {
   "codemirror_mode": {
    "name": "ipython",
    "version": 3
   },
   "file_extension": ".py",
   "mimetype": "text/x-python",
   "name": "python",
   "nbconvert_exporter": "python",
   "pygments_lexer": "ipython3",
   "version": "3.9.18"
  }
 },
 "nbformat": 4,
 "nbformat_minor": 2
}
